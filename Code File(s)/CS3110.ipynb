{
  "nbformat": 4,
  "nbformat_minor": 0,
  "metadata": {
    "colab": {
      "provenance": []
    },
    "kernelspec": {
      "name": "python3",
      "display_name": "Python 3"
    },
    "language_info": {
      "name": "python"
    }
  },
  "cells": [
    {
      "cell_type": "code",
      "execution_count": 10,
      "metadata": {
        "colab": {
          "base_uri": "https://localhost:8080/"
        },
        "id": "JiCGHmzLWmy_",
        "outputId": "e341b9e2-d042-4735-83c5-e6da318a1141"
      },
      "outputs": [
        {
          "output_type": "stream",
          "name": "stdout",
          "text": [
            "Input: '0' → ACCEPT\n",
            "Input: '5' → ACCEPT\n",
            "Input: '123' → ACCEPT\n",
            "Input: '000' → ACCEPT\n",
            "Input: '01' → REJECT\n",
            "Input: 'a23' → REJECT\n",
            "Input: '' → REJECT\n"
          ]
        }
      ],
      "source": [
        "decimal_nfa = {\n",
        "    'q0': { #q0 is the start state for our NFA.\n",
        "        '0':['q1'], #If the input begins with 0, we are taken to the state q1 that has no transitions (Python's rules for decimal integer literals do not allow numbers with leading 0's).\n",
        "        '1': ['q2'], '2': ['q2'], '3': ['q2'], '4': ['q2'], '5': ['q2'],\n",
        "        '6': ['q2'], '7': ['q2'], '8': ['q2'], '9': ['q2']\n",
        "    },\n",
        "\n",
        "    'q1': { #The state q1 does not have any transitions, preventing the acceptance of any numbers with leading 0's (Multi digit numbers that start with 0), but only accepts if more 0's follow afterwards.\n",
        "        '0': ['q1'],\n",
        "    },\n",
        "    'q2': { #The state q2 should loop to itself, as our NFA should accept any multi digit numbers that do not start with 0.\n",
        "        '0': ['q2'], '1': ['q2'], '2': ['q2'], '3': ['q2'], '4': ['q2'],\n",
        "        '5': ['q2'], '6': ['q2'], '7': ['q2'], '8': ['q2'], '9': ['q2']\n",
        "    }\n",
        "}\n",
        "\n",
        "start_state = 'q0'\n",
        "final_states = {'q1', 'q2'}\n",
        "\n",
        "#Simulating the NFA\n",
        "def simulate_nfa(decimal_nfa, start_state, final_states, input_string):\n",
        "    current_states = [start_state] #Begins the simulation at q0, our intended start state.\n",
        "    for symbol in input_string: #looping through each symbol in the test string\n",
        "        next_states = [] #creates a list used for storing valid \"next states\" from all current states\n",
        "        for state in current_states:\n",
        "            if symbol in decimal_nfa.get(state, {}): #Checking for a valid transition from current state to another state based on the current symbol from test string.\n",
        "                next_states.extend(decimal_nfa[state][symbol]) #Based on the new current state, if there is a valid transition, we then extend and add it to next_states.\n",
        "        current_states = next_states #updates the current states list so now the NFA is checking if pathways are possible through the new states we have just visited.\n",
        "        if not current_states: #Checking if current states is empty (would become empty if there are no matching transitions from the current state, based on the \"input\").\n",
        "            return False #confirms that the NFA is stuck and we reject (because the current state is empty).\n",
        "    return any(state in final_states for state in current_states) #Checking if any value in the current state list is accepting.\n",
        "\n",
        "testing = [\"0\", \"5\", \"123\", \"01\", \"000\", \"a23\", \"\"]\n",
        "for s in testing:\n",
        "    result = simulate_nfa(decimal_nfa, start_state, final_states, s)\n",
        "    print(f\"Input: '{s}' → {'ACCEPT' if result else 'REJECT'}\")"
        "try:\n",
        "    with open("in_ans.txt", "r") as infile, open ("out.txt", "w" as outfile: #Opens the input file.\n",
        "        for line in infile: #Loops through each line of the file.\n",
        "            parts = line.strup().split() #Removes the spaces in between the input and expected value.\n",
        "            if len(parts) < 2: #Skips the lines that dont have both an input and expected value.\n",
        "                continue\n",
        "            input_str = parts[0] #Extracts the input.\n",
        "            expected = parts[1].upper() #Extracts the expected result.\n",
        "            actual = "ACCEPT" is simulate_nfa(decimal_nfa, start_state, final_states, input_string): #runs the input through the NFA to get the actual result.\n",
        "            result = "PASS" if actual == expected else "FAIL" #Compares the expected and actual result to each other.\n",
        "            output_line = f"Input: '{input_str}' | Expected: {ecptected} | Actual: {actual} | {result} #Formats the result line to be written to the output file.\n",
        "            outfile.write(output_line) #Writes the result to the output file.\n",
        "            print(output_line, end="") #Also print the resul to the condole.\n",
        "except FileNotFoundError: #Error if .txt not found.\n",
        "    print("Could not find 'in_and.txt'.")\n",
      ]
    }
  ]
}
