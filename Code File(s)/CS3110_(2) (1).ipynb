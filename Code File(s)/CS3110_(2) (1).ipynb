{
  "nbformat": 4,
  "nbformat_minor": 0,
  "metadata": {
    "colab": {
      "provenance": []
    },
    "kernelspec": {
      "name": "python3",
      "display_name": "Python 3"
    },
    "language_info": {
      "name": "python"
    }
  },
  "cells": [
    {
      "cell_type": "code",
      "execution_count": 15,
      "metadata": {
        "collapsed": true,
        "colab": {
          "base_uri": "https://localhost:8080/"
        },
        "id": "GMCmDBO-uF37",
        "outputId": "f27e0210-7555-4e16-8837-e548ed52a3f9"
      },
      "outputs": [
        {
          "output_type": "stream",
          "name": "stdout",
          "text": [
            "Input: '1111111111' | Expected: ACCEPT | Actual: ACCEPT | PASS\n",
            "Input: '4328752657' | Expected: ACCEPT | Actual: ACCEPT | PASS\n",
            "Input: '1011111111' | Expected: ACCEPT | Actual: ACCEPT | PASS\n",
            "Input: '2398889748' | Expected: ACCEPT | Actual: ACCEPT | PASS\n",
            "Input: '0000000200' | Expected: REJECT | Actual: REJECT | PASS\n",
            "Input: '0000001011' | Expected: REJECT | Actual: REJECT | PASS\n",
            "Input: '0012200000' | Expected: REJECT | Actual: REJECT | PASS\n"
          ]
        }
      ],
      "source": [
        "#Part 1 (40 pts) Recognize Python decimal integer\n",
        "decimal_nfa = {\n",
        "    'q0': {\n",
        "        '0': ['q1'],\n",
        "        '1': ['q2'], '2': ['q2'], '3': ['q2'], '4': ['q2'], '5': ['q2'],\n",
        "        '6': ['q2'], '7': ['q2'], '8': ['q2'], '9': ['q2']\n",
        "    },\n",
        "    'q1': {\n",
        "        '0': ['q1']\n",
        "    },\n",
        "    'q2': {\n",
        "        '0': ['q2'], '1': ['q2'], '2': ['q2'], '3': ['q2'], '4': ['q2'],\n",
        "        '5': ['q2'], '6': ['q2'], '7': ['q2'], '8': ['q2'], '9': ['q2']\n",
        "    }\n",
        "}\n",
        "\n",
        "start_state = 'q0'\n",
        "final_states = {'q1', 'q2'}\n",
        "\n",
        "def simulate_nfa(decimal_nfa, start_state, final_states, input_string):\n",
        "    current_states = [start_state]\n",
        "    for symbol in input_string:\n",
        "        next_states = []\n",
        "        for state in current_states:\n",
        "            if symbol in decimal_nfa.get(state, {}):\n",
        "                next_states.extend(decimal_nfa[state][symbol])\n",
        "        current_states = next_states\n",
        "        if not current_states:\n",
        "            return False\n",
        "    return any(state in final_states for state in current_states)\n",
        "\n",
        "try:\n",
        "    with open(\"in_ans.txt\", \"r\") as infile, open(\"out.txt\", \"w\") as outfile:\n",
        "        for line in infile:\n",
        "            parts = line.strip().split()\n",
        "            if len(parts) < 2:\n",
        "                continue\n",
        "            input_str = parts[0]\n",
        "            expected = parts[1].upper()\n",
        "            actual = \"ACCEPT\" if simulate_nfa(decimal_nfa, start_state, final_states, input_str) else \"REJECT\"\n",
        "            result = \"PASS\" if actual == expected else \"FAIL\"\n",
        "            output_line = f\"Input: '{input_str}' | Expected: {expected} | Actual: {actual} | {result}\\n\"\n",
        "            outfile.write(output_line)\n",
        "            print(output_line, end=\"\")\n",
        "except FileNotFoundError:\n",
        "    print(\"Could not find 'in_ans.txt'.\")"
      ]
    },
    {
      "cell_type": "code",
      "execution_count": 14,
      "metadata": {
        "colab": {
          "base_uri": "https://localhost:8080/"
        },
        "collapsed": true,
        "id": "6H7Jhw7VuF3-",
        "outputId": "88dbc748-7759-43b5-cdfe-ea9d1be5d258"
      },
      "outputs": [
        {
          "output_type": "stream",
          "name": "stdout",
          "text": [
            "Input: '1111111111' | Expected: ACCEPT | Actual: ACCEPT | PASS\n",
            "Input: '4328752657' | Expected: ACCEPT | Actual: ACCEPT | PASS\n",
            "Input: '1011111111' | Expected: ACCEPT | Actual: ACCEPT | PASS\n",
            "Input: '2398889748' | Expected: ACCEPT | Actual: ACCEPT | PASS\n",
            "Input: '0000000200' | Expected: REJECT | Actual: REJECT | PASS\n",
            "Input: '0000001011' | Expected: REJECT | Actual: REJECT | PASS\n",
            "Input: '0012200000' | Expected: REJECT | Actual: REJECT | PASS\n"
          ]
        }
      ],
      "source": [
        "#opening file, testing inputs, and creating new file\n",
        "try:\n",
        "    with open(\"in_ans.txt\", \"r\") as infile, open(\"out.txt\", \"w\") as outfile:\n",
        "        for line in infile:\n",
        "            parts = line.strip().split()\n",
        "            if len(parts) < 2:\n",
        "                continue\n",
        "            input_str = parts[0]\n",
        "            expected = parts[1].upper()\n",
        "            actual = \"ACCEPT\" if simulate_nfa(decimal_nfa, start_state, final_states, input_str) else \"REJECT\"\n",
        "            result = \"PASS\" if actual == expected else \"FAIL\"\n",
        "            output_line = f\"Input: '{input_str}' | Expected: {expected} | Actual: {actual} | {result}\\n\"\n",
        "            outfile.write(output_line)\n",
        "            print(output_line, end=\"\")\n",
        "except FileNotFoundError:\n",
        "    print(\"Could not find 'in_ans.txt'.\")\n"
      ]
    },
    {
      "cell_type": "code",
      "source": [
        "#Part 2 (60 pts) Extending NFA to recognize Python octal and hexadecimal integers\n",
        "extended_nfa = {\n",
        "    'q3': {\n",
        "        '': ['q4', 'q8', 'q0']\n",
        "    },\n",
        "    'q0': {\n",
        "        '0': ['q1'],\n",
        "        '1': ['q2'], '2': ['q2'], '3': ['q2'], '4': ['q2'], '5': ['q2'],\n",
        "        '6': ['q2'], '7': ['q2'], '8': ['q2'], '9': ['q2']\n",
        "    },\n",
        "    'q1': {\n",
        "        '0': ['q1']\n",
        "    },\n",
        "    'q2': {\n",
        "        '0': ['q2'], '1': ['q2'], '2': ['q2'], '3': ['q2'], '4': ['q2'],\n",
        "        '5': ['q2'], '6': ['q2'], '7': ['q2'], '8': ['q2'], '9': ['q2']\n",
        "    },\n",
        "    'q4': {\n",
        "        '0': ['q5']\n",
        "    },\n",
        "    'q5': {\n",
        "        'O': ['q6'], 'o': ['q6']\n",
        "    },\n",
        "    'q6': {\n",
        "        '0': ['q7'], '1': ['q7'], '2': ['q7'], '3': ['q7'], '4': ['q7'],\n",
        "        '5': ['q7'], '6': ['q7'], '7': ['q7']\n",
        "    },\n",
        "    'q7': {\n",
        "        '0': ['q7'], '1': ['q7'], '2': ['q7'], '3': ['q7'], '4': ['q7'],\n",
        "        '5': ['q7'], '6': ['q7'], '7': ['q7']\n",
        "    },\n",
        "    'q8': {\n",
        "        '0': ['q9']\n",
        "    },\n",
        "    'q9': {\n",
        "        'X': ['q10'], 'x': ['q10']\n",
        "    },\n",
        "    'q10': {\n",
        "        '0': ['q11'], '1': ['q11'], '2': ['q11'], '3': ['q11'], '4': ['q11'], '5': ['q11'],\n",
        "        '6': ['q11'], '7': ['q11'], '8': ['q11'], '9': ['q11'], 'A': ['q11'], 'B': ['q11'],\n",
        "        'C': ['q11'], 'D': ['q11'], 'E': ['q11'], 'F': ['q11'], 'a': ['q11'], 'b': ['q11'],\n",
        "        'c': ['q11'], 'd': ['q11'], 'e': ['q11'], 'f': ['q11']\n",
        "    },\n",
        "    'q11': {\n",
        "        '0': ['q11'], '1': ['q11'], '2': ['q11'], '3': ['q11'], '4': ['q11'], '5': ['q11'],\n",
        "        '6': ['q11'], '7': ['q11'], '8': ['q11'], '9': ['q11'], 'A': ['q11'], 'B': ['q11'],\n",
        "        'C': ['q11'], 'D': ['q11'], 'E': ['q11'], 'F': ['q11'], 'a': ['q11'], 'b': ['q11'],\n",
        "        'c': ['q11'], 'd': ['q11'], 'e': ['q11'], 'f': ['q11']\n",
        "    }\n",
        "}\n",
        "\n",
        "start_state = 'q3'\n",
        "final_states = {'q1', 'q2', 'q7', 'q11'}\n",
        "\n",
        "\n",
        "def epsilon_transition(nfa, states):\n",
        "    stack = list(states)\n",
        "    while stack:\n",
        "        state = stack.pop()\n",
        "        if state in nfa and '' in nfa[state]:\n",
        "            for next_state in nfa[state]['']:\n",
        "                if next_state not in states:\n",
        "                    states.append(next_state)\n",
        "                    stack.append(next_state)\n",
        "    return states\n",
        "\n",
        "def simulate_nfa(extended_nfa, start_state, final_states, input_string):\n",
        "    current_states = epsilon_transition(extended_nfa, [start_state])\n",
        "    for symbol in input_string:\n",
        "        next_states = []\n",
        "        for state in current_states:\n",
        "            if symbol in extended_nfa.get(state, {}):\n",
        "                next_states.extend(extended_nfa[state][symbol])\n",
        "        current_states = next_states\n",
        "        current_states = epsilon_transition(extended_nfa, next_states)\n",
        "        if not current_states:\n",
        "            return False\n",
        "    return any(state in final_states for state in current_states)\n",
        "\n",
        "try:\n",
        "    with open(\"in_ans.txt\", \"r\") as infile, open(\"out.txt\", \"w\") as outfile:\n",
        "        for line in infile:\n",
        "            parts = line.strip().split()\n",
        "            if len(parts) < 2:\n",
        "                continue\n",
        "            input_str = parts[0]\n",
        "            expected = parts[1].upper()\n",
        "            actual = \"ACCEPT\" if simulate_nfa(extended_nfa, start_state, final_states, input_str) else \"REJECT\"\n",
        "            result = \"PASS\" if actual == expected else \"FAIL\"\n",
        "            output_line = f\"Input: '{input_str}' | Expected: {expected} | Actual: {actual} | {result}\\n\"\n",
        "            outfile.write(output_line)\n",
        "            print(output_line, end=\"\")\n",
        "except FileNotFoundError:\n",
        "    print(\"Could not find 'in_ans.txt'.\")"
      ],
      "metadata": {
        "colab": {
          "base_uri": "https://localhost:8080/"
        },
        "id": "BT96BuTF9Hjx",
        "outputId": "011105cf-c021-4038-c0b2-76f0d626132e"
      },
      "execution_count": 30,
      "outputs": [
        {
          "output_type": "stream",
          "name": "stdout",
          "text": [
            "Input: '4328752657' | Expected: ACCEPT | Actual: ACCEPT | PASS\n",
            "Input: '1011111111' | Expected: ACCEPT | Actual: ACCEPT | PASS\n",
            "Input: '2398889748' | Expected: ACCEPT | Actual: ACCEPT | PASS\n",
            "Input: '0o77777734' | Expected: ACCEPT | Actual: ACCEPT | PASS\n",
            "Input: '0o47734733' | Expected: ACCEPT | Actual: ACCEPT | PASS\n",
            "Input: '0O12746421' | Expected: ACCEPT | Actual: ACCEPT | PASS\n",
            "Input: '0XABABa633' | Expected: ACCEPT | Actual: ACCEPT | PASS\n",
            "Input: '0X733b6A69' | Expected: ACCEPT | Actual: ACCEPT | PASS\n",
            "Input: '0xFF7374D6' | Expected: ACCEPT | Actual: ACCEPT | PASS\n",
            "Input: '0000000200' | Expected: REJECT | Actual: REJECT | PASS\n",
            "Input: '0000001011' | Expected: REJECT | Actual: REJECT | PASS\n",
            "Input: '0012200000' | Expected: REJECT | Actual: REJECT | PASS\n",
            "Input: '0o82257263' | Expected: REJECT | Actual: REJECT | PASS\n",
            "Input: '0o000000a7' | Expected: REJECT | Actual: REJECT | PASS\n",
            "Input: '0OABCD6353' | Expected: REJECT | Actual: REJECT | PASS\n",
            "Input: '0X9273pp22' | Expected: REJECT | Actual: REJECT | PASS\n",
            "Input: '0X93s92373' | Expected: REJECT | Actual: REJECT | PASS\n",
            "Input: '0x92837BBx' | Expected: REJECT | Actual: REJECT | PASS\n"
          ]
        }
      ]
    }
  ]
}